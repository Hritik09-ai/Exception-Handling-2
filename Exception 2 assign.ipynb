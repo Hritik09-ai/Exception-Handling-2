{
 "cells": [
  {
   "cell_type": "code",
   "execution_count": 1,
   "id": "df3cc8ab-974e-4ff8-b43f-a930e7d09f8d",
   "metadata": {},
   "outputs": [],
   "source": [
    "# QUESTION.1 Explain why we have to use the Exception class while creating a Custom Exception.\n",
    "#  Note- Here Exception claass refers to the base class for all exceptions\n",
    "\n",
    "# ANSWER Using the 'Exception' class as the base class while creating a custom exception in programming offers several \n",
    "# benefits. firstly, it allows your custom exception to inherit and leverage the existing functionality and behaviour of the \n",
    "# built -inexception classes in the programming language. This encludes features like error message handling, stack trace\n",
    "# informationand integration with language-soecific error handling mechananism.\n",
    "# Additionally,by inheriting from the 'Exception' class, your custom exception become recognizable as an exception type\n",
    "# by the programming language's runtime enviroment.\n",
    "# Inheriting from the 'Exception' class also allows you to follow established coding conventions and practices.\n"
   ]
  },
  {
   "cell_type": "code",
   "execution_count": null,
   "id": "9e8bf5e3-43fb-488f-809f-d3070557c7f8",
   "metadata": {},
   "outputs": [],
   "source": []
  },
  {
   "cell_type": "code",
   "execution_count": 9,
   "id": "752f8fa7-ade0-4d67-9314-b6da7049fcab",
   "metadata": {},
   "outputs": [],
   "source": [
    "# QUESTION.2 Write a python program to print Exception Hierarchy.\n",
    "# ANSWER \n",
    "def print_exception_hierarchy(exception_class, depth=0):\n",
    "    indent = \" \" * depth\n",
    "    print(indent + exception_cls.__name__)\n",
    "    for sub_cls in exception_cls.__subclasses__():\n",
    "        print_exception_hierarchy(sub_cls,depth + 1)\n",
    "    print_exception_hierarchy(BaseException)"
   ]
  },
  {
   "cell_type": "code",
   "execution_count": null,
   "id": "c2fde594-de10-456b-a4bc-4fac2666541d",
   "metadata": {},
   "outputs": [],
   "source": []
  },
  {
   "cell_type": "code",
   "execution_count": 15,
   "id": "0ad26023-e7a5-42d4-98a7-a577a7e259db",
   "metadata": {},
   "outputs": [],
   "source": [
    "# QUESTION.3 What error are defined in the ArtihmeticError class? Explain any two with an example.\n",
    "# ANSWER The 'ArithmeticeError' class is a base class for aritmetic-related exception in many programming language. Two\n",
    "# common error tht are derived from 'arithmeticError' are :\n",
    "# 1. ZeroDivisionError \n",
    "import logging \n",
    "logging.basicConfig(filename='error.log', level=logging.ERROR)\n",
    "try:\n",
    "    result = 10 / 0\n",
    "except ZeroDivisionError as e :\n",
    "    logging.error(\"Errror: %s\", e)   \n"
   ]
  },
  {
   "cell_type": "code",
   "execution_count": 20,
   "id": "b6d4a7d5-5683-4dd7-9b81-14b6558e67bb",
   "metadata": {},
   "outputs": [],
   "source": [
    "import sys"
   ]
  },
  {
   "cell_type": "code",
   "execution_count": 21,
   "id": "f39c9011-8969-4518-86b2-1a588b1d6ab6",
   "metadata": {},
   "outputs": [],
   "source": [
    "import logging\n",
    "logging.basicConfig(filename='error2.log',level=logging.ERROR)\n",
    "try :\n",
    "    large_number = sys.maxsize + 1\n",
    "except OverflowError as e :\n",
    "    logging.error(\"Error: %s\", e)"
   ]
  },
  {
   "cell_type": "code",
   "execution_count": null,
   "id": "692f610e-524d-4c7a-bf0c-c06fb86511ef",
   "metadata": {},
   "outputs": [],
   "source": []
  },
  {
   "cell_type": "code",
   "execution_count": 22,
   "id": "7996ee26-996f-40a8-87eb-a81380995059",
   "metadata": {},
   "outputs": [
    {
     "name": "stdout",
     "output_type": "stream",
     "text": [
      "KeyEror: 'd'\n"
     ]
    }
   ],
   "source": [
    "# QUESTION.4 Why Lookup class is used? Explain with an example keyError and indexError.\n",
    "# ANSWER The 'LookupError' class in Python is a base class for exception that occur when a key or index is not found in a \n",
    "# sequence or mapping.\n",
    "# Two common subclasses of 'LookupError' are 'KeyError' and 'IndexError' \n",
    "# 'KeyError' : This exception is raised when you try to access a key that doesn't exist n a dictionary.\n",
    "# Example:\n",
    "my_dict = {'a' : 1, 'b' : 2, 'c' : 3}\n",
    "try :\n",
    "    value = my_dict['d']\n",
    "except KeyError as e :\n",
    "    print(f\"KeyEror: {e}\")"
   ]
  },
  {
   "cell_type": "code",
   "execution_count": 23,
   "id": "bac0ecd0-4bc9-43d5-b8e2-458585c4c2bf",
   "metadata": {},
   "outputs": [
    {
     "name": "stdout",
     "output_type": "stream",
     "text": [
      "IndexError: list index out of range\n"
     ]
    }
   ],
   "source": [
    "# IndexError : This exception is raised when you try to access an index thast is out of range in a sequence,like a list or a \n",
    "# string.\n",
    "# Example\n",
    "# ANSWER \n",
    "my_list = [10,20,30]\n",
    "try:\n",
    "    value = my_list[3]\n",
    "except IndexError as e :\n",
    "    print(f\"IndexError: {e}\")"
   ]
  },
  {
   "cell_type": "code",
   "execution_count": null,
   "id": "0cff46ef-314a-4a2a-b502-28c23ec5a293",
   "metadata": {},
   "outputs": [],
   "source": []
  },
  {
   "cell_type": "code",
   "execution_count": null,
   "id": "68754c1a-5119-4183-b361-fbe560f9955f",
   "metadata": {},
   "outputs": [],
   "source": [
    "# QUESTION.5 Explain ImportError.What is ModuleNotFoundError?\n",
    "# ANSWER 'ImportError' : This exception occure when an import module encounters an issue during the import process. It can \n",
    "# happen due to various reasons, such as a syntax error within the module, a missing dependency, or a problem with the \n",
    "# module's code. \n",
    "# 'ModuleNotFounderror' : This exception is a subclass of 'ImportError'. It specifically indicates that the module you're \n",
    "# trying to import could not be found in the specified search location."
   ]
  },
  {
   "cell_type": "code",
   "execution_count": null,
   "id": "e7cb7ffb-9290-4e41-b42b-c7e26832b21a",
   "metadata": {},
   "outputs": [],
   "source": []
  },
  {
   "cell_type": "code",
   "execution_count": null,
   "id": "986d98d9-c160-442c-8abf-88187db22abe",
   "metadata": {},
   "outputs": [],
   "source": [
    "# QUESTION.6 List down some best pratices for exception handling in python.\n",
    "# ANSWER Here are some best practices for handling exceptions in Python:\n",
    "\n",
    "# Specific Exception Catching:\n",
    "# Catch specific exceptions rather than using broad except clauses. This allows you to handle different exceptions differently\n",
    "# and avoids catching unintended errors.\n",
    "\n",
    "# Use try-except Blocks:\n",
    "# Wrap potentially error-prone code in a try block and catch exceptions with except blocks. This isolates error-prone code\n",
    "# from the rest of your program.\n",
    "\n",
    "# Avoid Bare except:\n",
    "# Avoid using a bare except statement (without specifying the exception type) as it catches all exceptions, making debugging \n",
    "# difficult. Instead, catch specific exceptions.\n",
    "\n",
    "# Clean Up with finally:\n",
    "# Use the finally block to ensure that certain code (like closing files or releasing resources) is executed whether an \n",
    "# exception occurs or not.\n",
    "\n",
    "# Exception Chaining:\n",
    "# When catching an exception, you can raise a new exception while preserving the original exception's context using the\n",
    "# raise ... from ... syntax.\n",
    "\n",
    "# Custom Exceptions:\n",
    "# Define custom exception classes for your application to make error handling more meaningful and structured.\n",
    "\n",
    "#Logging Exceptions:\n",
    "#Use Python's logging module to log exceptions along with relevant information. This helps in diagnosing issues later."
   ]
  }
 ],
 "metadata": {
  "kernelspec": {
   "display_name": "Python 3 (ipykernel)",
   "language": "python",
   "name": "python3"
  },
  "language_info": {
   "codemirror_mode": {
    "name": "ipython",
    "version": 3
   },
   "file_extension": ".py",
   "mimetype": "text/x-python",
   "name": "python",
   "nbconvert_exporter": "python",
   "pygments_lexer": "ipython3",
   "version": "3.10.8"
  }
 },
 "nbformat": 4,
 "nbformat_minor": 5
}
